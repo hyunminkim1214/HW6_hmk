{
 "cells": [
  {
   "cell_type": "code",
   "execution_count": null,
   "id": "060a1e07",
   "metadata": {},
   "outputs": [],
   "source": [
    "import random\n",
    "n=10**2\n",
    "randomdice1=[]\n",
    "for i in range(n):\n",
    "    randomdice1.append(random.randint(1,6))\n",
    "count1=[0,0,0,0,0,0]\n",
    "for i in randomdice1:\n",
    "    if i==1:\n",
    "        count1[0]=count1[0]+1\n",
    "    elif i==2:\n",
    "        count1[1]=count1[1]+1\n",
    "    elif i==3:\n",
    "        count1[2]=count1[2]+1\n",
    "    elif i==4:\n",
    "        count1[3]=count1[3]+1\n",
    "    elif i==5:\n",
    "        count1[4]=count1[4]+1\n",
    "    else:\n",
    "        count1[5]=count1[5]+1\n",
    "print(count1)\n",
    "n=10**3\n",
    "randomdice1=[]\n",
    "for i in range(n):\n",
    "    randomdice1.append(random.randint(1,6))\n",
    "count1=[0,0,0,0,0,0]\n",
    "for i in randomdice1:\n",
    "    if i==1:\n",
    "        count1[0]=count1[0]+1\n",
    "    elif i==2:\n",
    "        count1[1]=count1[1]+1\n",
    "    elif i==3:\n",
    "        count1[2]=count1[2]+1\n",
    "    elif i==4:\n",
    "        count1[3]=count1[3]+1\n",
    "    elif i==5:\n",
    "        count1[4]=count1[4]+1\n",
    "    else:\n",
    "        count1[5]=count1[5]+1\n",
    "print(count1)\n",
    "n=10**4\n",
    "randomdice1=[]\n",
    "for i in range(n):\n",
    "    randomdice1.append(random.randint(1,6))\n",
    "count1=[0,0,0,0,0,0]\n",
    "for i in randomdice1:\n",
    "    if i==1:\n",
    "        count1[0]=count1[0]+1\n",
    "    elif i==2:\n",
    "        count1[1]=count1[1]+1\n",
    "    elif i==3:\n",
    "        count1[2]=count1[2]+1\n",
    "    elif i==4:\n",
    "        count1[3]=count1[3]+1\n",
    "    elif i==5:\n",
    "        count1[4]=count1[4]+1\n",
    "    else:\n",
    "        count1[5]=count1[5]+1\n",
    "print(count1)\n",
    "n=10**5\n",
    "randomdice1=[]\n",
    "for i in range(n):\n",
    "    randomdice1.append(random.randint(1,6))\n",
    "count1=[0,0,0,0,0,0]\n",
    "for i in randomdice1:\n",
    "    if i==1:\n",
    "        count1[0]=count1[0]+1\n",
    "    elif i==2:\n",
    "        count1[1]=count1[1]+1\n",
    "    elif i==3:\n",
    "        count1[2]=count1[2]+1\n",
    "    elif i==4:\n",
    "        count1[3]=count1[3]+1\n",
    "    elif i==5:\n",
    "        count1[4]=count1[4]+1\n",
    "    else:\n",
    "        count1[5]=count1[5]+1\n",
    "print(count1)"
   ]
  },
  {
   "cell_type": "code",
   "execution_count": null,
   "id": "dcb4b6ac",
   "metadata": {},
   "outputs": [],
   "source": [
    "def main():\n",
    "\n",
    "    print(\"Hello, World!\")\n",
    "\n",
    " \n",
    "\n",
    "if __name__ == '__main__':\n",
    "\n",
    " \n",
    "\n",
    "    main()"
   ]
  },
  {
   "cell_type": "code",
   "execution_count": 1,
   "id": "e8836326",
   "metadata": {},
   "outputs": [
    {
     "name": "stdout",
     "output_type": "stream",
     "text": [
      "[[0, 10, 8, 32, 14, 20, 16], [0, 170, 152, 168, 176, 181, 153], [0, 1616, 1590, 1718, 1668, 1678, 1730], [0, 16720, 16705, 16666, 16618, 16693, 16598]]\n"
     ]
    }
   ],
   "source": [
    "import csv\n",
    "f=open('dice2.csv','r',encoding='utf-8')\n",
    "data=csv.reader(f)\n",
    "frequency=[[0,0,0,0,0,0,0],[0,0,0,0,0,0,0],[0,0,0,0,0,0,0],[0,0,0,0,0,0,0]]\n",
    "for i,row in enumerate(data):\n",
    "    for j in range(1,7):\n",
    "        frequency[i][j]=int(row[j])\n",
    "print(frequency)"
   ]
  },
  {
   "cell_type": "code",
   "execution_count": 4,
   "id": "bc973b73",
   "metadata": {},
   "outputs": [],
   "source": [
    "def make_array(arr):\n",
    "    rlist=[]\n",
    "    for k,i in enumerate(arr[1:]):\n",
    "        for j in range(i):\n",
    "            rlist.append(k+1)\n",
    "    return rlist"
   ]
  },
  {
   "cell_type": "code",
   "execution_count": 9,
   "id": "7b16d762",
   "metadata": {},
   "outputs": [],
   "source": [
    "arr1=make_array(frequency[0])\n",
    "arr2=make_array(frequency[1])\n",
    "arr3=make_array(frequency[2])\n",
    "arr4=make_array(frequency[3])\n",
    "\n",
    "\n",
    "\n"
   ]
  },
  {
   "cell_type": "code",
   "execution_count": 41,
   "id": "d8d2b8a2",
   "metadata": {},
   "outputs": [
    {
     "data": {
      "image/png": "[encoded data removed]",
      "text/plain": [
       "<Figure size 640x480 with 4 Axes>"
      ]
     },
     "metadata": {},
     "output_type": "display_data"
    }
   ],
   "source": [
    "import matplotlib.pyplot as plt\n",
    "plt.subplot(2,2,1)\n",
    "plt.title('n=100')\n",
    "plt.xlabel('number')\n",
    "plt.ylabel('frequency')\n",
    "plt.hist(arr1,bins=11)\n",
    "plt.xticks([1,2,3,4,5,6])\n",
    "plt.subplot(2,2,2)\n",
    "plt.title('n=1000')\n",
    "plt.xlabel('number')\n",
    "plt.ylabel('frequency')\n",
    "plt.xticks([1,2,3,4,5,6])\n",
    "plt.hist(arr2,bins=11)\n",
    "plt.subplot(2,2,3)\n",
    "plt.title('n=10000')\n",
    "plt.xlabel('number')\n",
    "plt.ylabel('frequency')\n",
    "plt.xticks([1,2,3,4,5,6])\n",
    "plt.hist(arr3,bins=11)\n",
    "plt.subplot(2,2,4)\n",
    "plt.title('n=100000')\n",
    "plt.xlabel('number')\n",
    "plt.ylabel('frequency')\n",
    "plt.xticks([1,2,3,4,5,6])\n",
    "plt.hist(arr4,bins=11)\n",
    "plt.subplots_adjust(\n",
    "    wspace=1,  \n",
    "    hspace=1)"
   ]
  },
  {
   "cell_type": "code",
   "execution_count": null,
   "id": "346c439d",
   "metadata": {},
   "outputs": [],
   "source": []
  }
 ],
 "metadata": {
  "kernelspec": {
   "display_name": "Python 3 (ipykernel)",
   "language": "python",
   "name": "python3"
  },
  "language_info": {
   "codemirror_mode": {
    "name": "ipython",
    "version": 3
   },
   "file_extension": ".py",
   "mimetype": "text/x-python",
   "name": "python",
   "nbconvert_exporter": "python",
   "pygments_lexer": "ipython3",
   "version": "3.9.13"
  }
 },
 "nbformat": 4,
 "nbformat_minor": 5
}
